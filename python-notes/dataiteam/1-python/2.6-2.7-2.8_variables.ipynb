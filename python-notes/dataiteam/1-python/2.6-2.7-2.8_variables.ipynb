{
 "cells": [
  {
   "cell_type": "markdown",
   "metadata": {},
   "source": [
    "Python'da üç temel kalıp var. \n",
    "\n",
    "Bunlar: **Variable**, **function** ve **object**."
   ]
  },
  {
   "cell_type": "markdown",
   "metadata": {},
   "source": [
    "---"
   ]
  },
  {
   "cell_type": "markdown",
   "metadata": {},
   "source": [
    "## Variable (Değişken)"
   ]
  },
  {
   "cell_type": "code",
   "execution_count": 5,
   "metadata": {},
   "outputs": [],
   "source": [
    "var_1 = 10 # integer\n",
    "var_2 = \"degisken\" #string\n",
    "var_3 = 9.3 # float"
   ]
  },
  {
   "cell_type": "markdown",
   "metadata": {},
   "source": [
    "---"
   ]
  },
  {
   "cell_type": "markdown",
   "metadata": {},
   "source": [
    "### String"
   ]
  },
  {
   "cell_type": "code",
   "execution_count": 11,
   "metadata": {},
   "outputs": [
    {
     "name": "stdout",
     "output_type": "stream",
     "text": [
      "<class 'str'>\n",
      "bugün günlerden perşembe\n"
     ]
    }
   ],
   "source": [
    "s = \"bugün günlerden perşembe\"\n",
    "s_type = type(s) # Değişkenin türünü verir.\n",
    "\n",
    "print(s_type)\n",
    "print(s)"
   ]
  },
  {
   "cell_type": "code",
   "execution_count": 14,
   "metadata": {},
   "outputs": [
    {
     "name": "stdout",
     "output_type": "stream",
     "text": [
      "istanbulankara\n"
     ]
    }
   ],
   "source": [
    "s1 = \"istanbul\"\n",
    "s2 = \"ankara\"\n",
    "\n",
    "s3 = s1+s2 # Integer değişkenlerde toplama yapsa da string değişkenleri birleştirir.\n",
    "\n",
    "print(s3)"
   ]
  },
  {
   "cell_type": "code",
   "execution_count": 18,
   "metadata": {},
   "outputs": [
    {
     "name": "stdout",
     "output_type": "stream",
     "text": [
      "14\n"
     ]
    }
   ],
   "source": [
    "uzunluk = len(s3) # String değişkenlerdeki karakter sayısını verir.\n",
    "\n",
    "print(uzunluk)"
   ]
  },
  {
   "cell_type": "code",
   "execution_count": 25,
   "metadata": {},
   "outputs": [
    {
     "name": "stdout",
     "output_type": "stream",
     "text": [
      "t\n",
      "tan\n"
     ]
    }
   ],
   "source": [
    "index_yer = s3[2] # [] girilen index sayısına göre bulunan karakteri verir.\n",
    "\n",
    "# [] ve : ise string değişkenler içerisinden istenilen karakterlere erişir.\n",
    "# [2:4], [:5], [3:] gibi ifadelerle kullanılabilir.\n",
    "\n",
    "aralik = s3[2:5] \n",
    "\n",
    "print(index_yer)\n",
    "print(aralik)"
   ]
  },
  {
   "cell_type": "markdown",
   "metadata": {},
   "source": [
    "---"
   ]
  },
  {
   "cell_type": "markdown",
   "metadata": {},
   "source": [
    "### Integer, float ve tip değişimleri"
   ]
  },
  {
   "cell_type": "code",
   "execution_count": 33,
   "metadata": {},
   "outputs": [
    {
     "name": "stdout",
     "output_type": "stream",
     "text": [
      "23\n",
      "12.0\n",
      "232\n",
      "345\n",
      "<class 'str'>\n",
      "23.0\n"
     ]
    }
   ],
   "source": [
    "int_1 = 12\n",
    "float_1 = 23.2\n",
    "\n",
    "int_2 = int(float_1) # integer değişimi.\n",
    "\n",
    "print(int_2)\n",
    "\n",
    "float_2 = float(int_1) #float değişimi.\n",
    "\n",
    "print(float_2)\n",
    "\n",
    "int_3 = int(\"232\")\n",
    "\n",
    "print(int_3)\n",
    "\n",
    "string_1 = str(345) # string değişimi.\n",
    "\n",
    "print(string_1)\n",
    "\n",
    "print(type(string_1))\n",
    "\n",
    "string_2 = float(\"23\")\n",
    "\n",
    "print(string_2)"
   ]
  }
 ],
 "metadata": {
  "kernelspec": {
   "display_name": "Python 3",
   "language": "python",
   "name": "python3"
  },
  "language_info": {
   "codemirror_mode": {
    "name": "ipython",
    "version": 3
   },
   "file_extension": ".py",
   "mimetype": "text/x-python",
   "name": "python",
   "nbconvert_exporter": "python",
   "pygments_lexer": "ipython3",
   "version": "3.7.4"
  }
 },
 "nbformat": 4,
 "nbformat_minor": 2
}
