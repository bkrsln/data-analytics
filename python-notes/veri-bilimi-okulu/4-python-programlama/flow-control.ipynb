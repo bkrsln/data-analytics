{
 "cells": [
  {
   "cell_type": "markdown",
   "metadata": {},
   "source": [
    "**True - False**"
   ]
  },
  {
   "cell_type": "code",
   "execution_count": 4,
   "metadata": {
    "scrolled": false
   },
   "outputs": [
    {
     "name": "stdout",
     "output_type": "stream",
     "text": [
      "True\n",
      "False\n"
     ]
    }
   ],
   "source": [
    "x = 5\n",
    "print(x == 5) # Sorgulama sonucunda true veya false döndürür.\n",
    "print(x == 6)"
   ]
  },
  {
   "cell_type": "markdown",
   "metadata": {},
   "source": [
    "**If - Else**"
   ]
  },
  {
   "cell_type": "code",
   "execution_count": 19,
   "metadata": {},
   "outputs": [
    {
     "name": "stdout",
     "output_type": "stream",
     "text": [
      "İlk sayıyı gir: 23\n",
      "İkinci sayıyı gir: 1\n",
      "Girdiğin ilk sayı olan 23 ikinci sayı olan 1 sayısından büyük.\n"
     ]
    }
   ],
   "source": [
    "y = int(input(\"İlk sayıyı gir: \"))\n",
    "z = int(input(\"İkinci sayıyı gir: \"))\n",
    "\n",
    "if y < z:\n",
    "    kucuk = \"Girdiğin ilk sayı olan \" + str(y) + \" ikinci sayı olan \" + str(z) + \" sayısından küçük.\"\n",
    "    print(kucuk)\n",
    "else:\n",
    "    buyuk = \"Girdiğin ilk sayı olan \" + str(y) + \" ikinci sayı olan \" + str(z) + \" sayısından büyük.\"\n",
    "    print(buyuk)"
   ]
  },
  {
   "cell_type": "code",
   "execution_count": 22,
   "metadata": {},
   "outputs": [
    {
     "name": "stdout",
     "output_type": "stream",
     "text": [
      "İlk sayıyı gir: 2\n",
      "İkinci sayıyı gir: 2\n",
      "Girdiğin ilk sayı olan 2 ikinci sayı olan 2 sayıyla eşit.\n"
     ]
    }
   ],
   "source": [
    "y = int(input(\"İlk sayıyı gir: \"))\n",
    "z = int(input(\"İkinci sayıyı gir: \"))\n",
    "\n",
    "if y < z:\n",
    "    kucuk = \"Girdiğin ilk sayı olan \" + str(y) + \" ikinci sayı olan \" + str(z) + \" sayısından küçük.\"\n",
    "    print(kucuk)\n",
    "elif y > z: # Else takısına gelmeden bir sorgulama daha yaptırdık.\n",
    "    buyuk = \"Girdiğin ilk sayı olan \" + str(y) + \" ikinci sayı olan \" + str(z) + \" sayısından büyük.\"\n",
    "    print(buyuk)\n",
    "else: # Else geride kalan tüm şartlar sağlamadığında çalışır.\n",
    "    esit = \"Girdiğin ilk sayı olan \" + str(y) + \" ikinci sayı olan \" + str(z) + \" sayıyla eşit.\"\n",
    "    print(esit)"
   ]
  },
  {
   "cell_type": "markdown",
   "metadata": {},
   "source": [
    "**For**"
   ]
  },
  {
   "cell_type": "code",
   "execution_count": 5,
   "metadata": {},
   "outputs": [
    {
     "name": "stdout",
     "output_type": "stream",
     "text": [
      "2\n",
      "3\n",
      "4\n",
      "5\n",
      "6\n",
      "7\n",
      "8\n",
      "9\n",
      "10\n",
      "11\n"
     ]
    }
   ],
   "source": [
    "liste = [1,2,3,4,5,6,7,8,9,10]\n",
    "\n",
    "for ekle in liste: # Listedeki her bir elemanı döngü içinde işlem yapar.\n",
    "    ekle = ekle + 1\n",
    "    print(ekle)"
   ]
  },
  {
   "cell_type": "code",
   "execution_count": 22,
   "metadata": {},
   "outputs": [
    {
     "name": "stdout",
     "output_type": "stream",
     "text": [
      "Zam oranı: 20\n",
      "2400.0\n",
      "4200.0\n",
      "4800.0\n",
      "6600.0\n",
      "7200.0\n",
      "3360.0\n",
      "10800.0\n",
      "2100.0\n"
     ]
    }
   ],
   "source": [
    "# Fonksiyonu döngü içinde kullanabiliriz.\n",
    "\n",
    "maas = [2000, 3500, 4000, 5500, 6000, 2800, 9000, 1750]\n",
    "\n",
    "def yuzde(giris):\n",
    "    sonuc = (giris * oran) / 100 + giris\n",
    "    return sonuc\n",
    "\n",
    "oran = int(input(\"Zam oranı: \"))\n",
    "\n",
    "for i in maas:\n",
    "    yeni_maas = yuzde(i)\n",
    "    print(yeni_maas)"
   ]
  },
  {
   "cell_type": "markdown",
   "metadata": {},
   "source": [
    "**While**"
   ]
  },
  {
   "cell_type": "code",
   "execution_count": 50,
   "metadata": {},
   "outputs": [
    {
     "name": "stdout",
     "output_type": "stream",
     "text": [
      "2\n",
      "3\n",
      "4\n",
      "5\n"
     ]
    }
   ],
   "source": [
    "x = 1\n",
    "\n",
    "while x < 5: # Şart sağlandığı sürece döngüsü.\n",
    "    x = x + 1\n",
    "    print(x)"
   ]
  },
  {
   "cell_type": "markdown",
   "metadata": {},
   "source": [
    "---"
   ]
  },
  {
   "cell_type": "code",
   "execution_count": 48,
   "metadata": {},
   "outputs": [
    {
     "name": "stdout",
     "output_type": "stream",
     "text": [
      "2000 2400.0 20\n",
      "3500 4200.0 20\n",
      "4000 4800.0 20\n",
      "5500 5775.0 5\n",
      "6000 6300.0 5\n",
      "2800 3360.0 20\n",
      "9000 9450.0 5\n",
      "1750 2100.0 20\n"
     ]
    }
   ],
   "source": [
    "# Fonksiyon ile birlikte if ve for döngüleri.\n",
    "\n",
    "maas = [2000, 3500, 4000, 5500, 6000, 2800, 9000, 1750]\n",
    "\n",
    "def yuzde(giris, oran): # Döngüye girecek hesaplama fonksiyonu.\n",
    "    sonuc = (giris * oran) / 100 + giris\n",
    "    return sonuc\n",
    "\n",
    "for i in maas:\n",
    "    if i > 4000: # Hesaplamayı döngüye alır, listedeki elemanlara uygular.\n",
    "        oran = 5\n",
    "        yeni_maas = yuzde(i, oran)\n",
    "    else:\n",
    "        oran = 20\n",
    "        yeni_maas = yuzde(i, oran)\n",
    "        \n",
    "    print(i, yeni_maas, oran)"
   ]
  }
 ],
 "metadata": {
  "kernelspec": {
   "display_name": "Python 3",
   "language": "python",
   "name": "python3"
  },
  "language_info": {
   "codemirror_mode": {
    "name": "ipython",
    "version": 3
   },
   "file_extension": ".py",
   "mimetype": "text/x-python",
   "name": "python",
   "nbconvert_exporter": "python",
   "pygments_lexer": "ipython3",
   "version": "3.7.4"
  }
 },
 "nbformat": 4,
 "nbformat_minor": 2
}
