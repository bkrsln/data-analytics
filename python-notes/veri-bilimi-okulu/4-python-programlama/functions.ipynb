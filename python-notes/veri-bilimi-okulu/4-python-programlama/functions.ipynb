{
 "cells": [
  {
   "cell_type": "code",
   "execution_count": 1,
   "metadata": {},
   "outputs": [
    {
     "name": "stdout",
     "output_type": "stream",
     "text": [
      "Karesini almak istediğin bir sayı gir: 3\n",
      "--------------------------\n",
      "Girdiğin sayının karesi: 9\n",
      "--------------------------\n"
     ]
    }
   ],
   "source": [
    "def karesi(x): # Fonksiyon yazımında def kullanılır.\n",
    "    giris = \"Girdiğin sayının karesi: \" + str(x**2) # string ifadeyle sayıyı yazdırmak için çevirir.\n",
    "    print(len(giris)*\"-\")\n",
    "    print(giris)\n",
    "    print(len(giris)*\"-\")\n",
    "    \n",
    "a = int(input(\"Karesini almak istediğin bir sayı gir: \")) # input ile alınan her değer string olduğu için çevirir.\n",
    "\n",
    "karesi(a)"
   ]
  },
  {
   "cell_type": "code",
   "execution_count": 2,
   "metadata": {},
   "outputs": [
    {
     "name": "stdout",
     "output_type": "stream",
     "text": [
      "İlk sayıyı gir: 7\n",
      "İkinci sayıyı gir: 8\n",
      "---------------------------------------------\n",
      "Girmiş olduğun 7 ve 8 sayılarının çarpımı: 56\n",
      "---------------------------------------------\n"
     ]
    }
   ],
   "source": [
    "def carp(x,y): # İki değeri çarpar.\n",
    "    giris = \"Girmiş olduğun \" + str(x) + \" ve \" + str(y) + \" sayılarının çarpımı: \" + str(x*y)\n",
    "    print(len(giris)*\"-\")\n",
    "    print(giris)\n",
    "    print(len(giris)*\"-\")\n",
    "    \n",
    "a = int(input(\"İlk sayıyı gir: \"))\n",
    "b = int(input(\"İkinci sayıyı gir: \"))\n",
    "\n",
    "carp(a,b)"
   ]
  },
  {
   "cell_type": "code",
   "execution_count": 3,
   "metadata": {},
   "outputs": [
    {
     "name": "stdout",
     "output_type": "stream",
     "text": [
      "Karesini almak istediğin bir sayı gir: 67\n",
      "-----------------------------\n",
      "Girdiğin sayının karesi: 4489\n",
      "-----------------------------\n"
     ]
    }
   ],
   "source": [
    "# return deyimi fonksiyon içindeki çıktıyı fonksiyon dışında da kullanmayı sağlar.\n",
    "# return kullanılmadığında fonksiyon içindeki çıktı fonksiyon içinde kalır.\n",
    "# Sadece ekrana basılan fonksiyon içi değeri dışarıda kullanmaya çalıştığımızda none döner.\n",
    "\n",
    "def karesi(z): \n",
    "    giris = \"Girdiğin sayının karesi: \" + str(z**2)\n",
    "    return giris \n",
    "    \n",
    "a = int(input(\"Karesini almak istediğin bir sayı gir: \"))\n",
    "c = karesi(a) # return kullandığımız için fonksiyon çıktısını bir değere atayabildik.\n",
    "\n",
    "print(len(c)*\"-\") # return kullandığımız için ekrana basma şekillerini dışarıda yapabildik.\n",
    "print(c)\n",
    "print(len(c)*\"-\")"
   ]
  },
  {
   "cell_type": "code",
   "execution_count": 4,
   "metadata": {},
   "outputs": [
    {
     "name": "stdout",
     "output_type": "stream",
     "text": [
      "[34]\n"
     ]
    }
   ],
   "source": [
    "# Normalde fonksiyon içi (local) değerler için değişken tanımlamak gerekir.\n",
    "# Ama local etki alanından global etki alanını etkilemek için fonksiyon içinde globaldeki değişken tanımlanmaz.\n",
    "# Fonksiyon içindeki liste değişkeni fonksiyon içinde tanımlanmadığı için globali etkiler.\n",
    "\n",
    "liste = []\n",
    "\n",
    "def ekle(eleman):\n",
    "    liste.append(eleman) # Buradaki liste değişkeni fonksiyon içinde tanımlı değil.\n",
    "    return eleman\n",
    "\n",
    "ekle(34)\n",
    "\n",
    "print(liste)"
   ]
  }
 ],
 "metadata": {
  "kernelspec": {
   "display_name": "Python 3",
   "language": "python",
   "name": "python3"
  },
  "language_info": {
   "codemirror_mode": {
    "name": "ipython",
    "version": 3
   },
   "file_extension": ".py",
   "mimetype": "text/x-python",
   "name": "python",
   "nbconvert_exporter": "python",
   "pygments_lexer": "ipython3",
   "version": "3.7.4"
  }
 },
 "nbformat": 4,
 "nbformat_minor": 2
}
