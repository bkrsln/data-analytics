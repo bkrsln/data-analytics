{
 "cells": [
  {
   "cell_type": "code",
   "execution_count": 7,
   "metadata": {},
   "outputs": [
    {
     "name": "stdout",
     "output_type": "stream",
     "text": [
      "Bu bir string ifade.\n",
      "bir s\n",
      "i\n"
     ]
    }
   ],
   "source": [
    "a = \"Bu bir string ifade.\"\n",
    "\n",
    "print(a)\n",
    "\n",
    "c = a[4] # Kaçıncı karakterse onu alıyor.\n",
    "\n",
    "b = a[3:8] # Arasından karakter seçiyor.\n",
    "\n",
    "print(b)\n",
    "\n",
    "print(c)"
   ]
  }
 ],
 "metadata": {
  "kernelspec": {
   "display_name": "Python 3",
   "language": "python",
   "name": "python3"
  },
  "language_info": {
   "codemirror_mode": {
    "name": "ipython",
    "version": 3
   },
   "file_extension": ".py",
   "mimetype": "text/x-python",
   "name": "python",
   "nbconvert_exporter": "python",
   "pygments_lexer": "ipython3",
   "version": "3.7.4"
  }
 },
 "nbformat": 4,
 "nbformat_minor": 2
}
