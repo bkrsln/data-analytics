{
 "cells": [
  {
   "cell_type": "markdown",
   "metadata": {},
   "source": [
    "# NumPy"
   ]
  },
  {
   "cell_type": "markdown",
   "metadata": {},
   "source": [
    "- Numerical Python.\n",
    "- Bilimsel hesaplamalar için kullanılır.\n",
    "- Çok boyutlu array ve matris üzerinde yüksek performanslı çalışma sağlar.\n",
    "- Listelere benzerdir. Farkı veri saklama ve vektörel operasyonlardır."
   ]
  },
  {
   "cell_type": "code",
   "execution_count": 1,
   "metadata": {},
   "outputs": [
    {
     "data": {
      "text/plain": [
       "[2, 6, 12, 20]"
      ]
     },
     "execution_count": 1,
     "metadata": {},
     "output_type": "execute_result"
    }
   ],
   "source": [
    "# İki listeyi fonksiyon kullanarak çarpabiliriz.\n",
    "\n",
    "a = [1,2,3,4]\n",
    "b = [2,3,4,5]\n",
    "\n",
    "ab = []\n",
    "\n",
    "for i in range(0, len(a)):\n",
    "    ab.append(a[i]*b[i])\n",
    "    \n",
    "ab"
   ]
  },
  {
   "cell_type": "code",
   "execution_count": 2,
   "metadata": {},
   "outputs": [
    {
     "data": {
      "text/plain": [
       "array([ 2,  6, 12, 20])"
      ]
     },
     "execution_count": 2,
     "metadata": {},
     "output_type": "execute_result"
    }
   ],
   "source": [
    "# Fonksiyon kullanmadan NumPy ile tanımlanmış şekilde de çarpabiliriz.\n",
    "\n",
    "import numpy as np\n",
    "\n",
    "a = np.array([1,2,3,4])\n",
    "b = np.array([2,3,4,5])\n",
    "\n",
    "a * b"
   ]
  },
  {
   "cell_type": "markdown",
   "metadata": {},
   "source": [
    "Klasik Python'da `list` esnektir ama veri saklama ve manipülatif işlemlerde maliyetli olduğu için NumPy'daki `array` yapısı daha işlevseldir, maliyeti azdır."
   ]
  },
  {
   "cell_type": "markdown",
   "metadata": {},
   "source": [
    "## Array oluşturmak"
   ]
  },
  {
   "cell_type": "code",
   "execution_count": 2,
   "metadata": {},
   "outputs": [
    {
     "name": "stdout",
     "output_type": "stream",
     "text": [
      "[12  3  4  6]\n",
      "<class 'numpy.ndarray'>\n"
     ]
    }
   ],
   "source": [
    "import numpy as np # NumPy ile çalışmak için import ile çağrılır.\n",
    "\n",
    "a = np.array([12,3,4,6]) # Liste üzerinden array oluşturur.\n",
    "\n",
    "print(a)\n",
    "print(type(a)) # NumPy arraylerinin özel veri tipi ndarray."
   ]
  },
  {
   "cell_type": "code",
   "execution_count": 3,
   "metadata": {},
   "outputs": [
    {
     "name": "stdout",
     "output_type": "stream",
     "text": [
      "[2.6 5.  7.8 4. ]\n",
      "[2 5 7 4]\n"
     ]
    }
   ],
   "source": [
    "b = np.array([2.6, 5, 7.8, 4]) # ndarray verilerin tek tipte olmasını zorlar.\n",
    "\n",
    "c = np.array([2.6, 5, 7.8, 4], dtype = 'int') # dtype argümanıyla ndarray tipleri istenilen formata getirilebilir.\n",
    "\n",
    "print(b)\n",
    "print(c)"
   ]
  },
  {
   "cell_type": "code",
   "execution_count": 4,
   "metadata": {},
   "outputs": [
    {
     "data": {
      "text/plain": [
       "array([0, 0, 0, 0, 0, 0, 0, 0, 0, 0])"
      ]
     },
     "execution_count": 4,
     "metadata": {},
     "output_type": "execute_result"
    }
   ],
   "source": [
    "np.zeros(10, dtype='int') # Sıfırlardan oluşan bir array."
   ]
  },
  {
   "cell_type": "code",
   "execution_count": 5,
   "metadata": {},
   "outputs": [
    {
     "data": {
      "text/plain": [
       "array([1., 1., 1., 1., 1., 1., 1., 1., 1., 1.])"
      ]
     },
     "execution_count": 5,
     "metadata": {},
     "output_type": "execute_result"
    }
   ],
   "source": [
    "np.ones(10) # Birlerden oluşan bir array."
   ]
  },
  {
   "cell_type": "code",
   "execution_count": 7,
   "metadata": {},
   "outputs": [
    {
     "data": {
      "text/plain": [
       "array([[7, 7, 7, 7, 7],\n",
       "       [7, 7, 7, 7, 7],\n",
       "       [7, 7, 7, 7, 7]])"
      ]
     },
     "execution_count": 7,
     "metadata": {},
     "output_type": "execute_result"
    }
   ],
   "source": [
    "np.full((3, 5), 7) # Belirli bir değerden oluşan matris şeklinde array."
   ]
  },
  {
   "cell_type": "code",
   "execution_count": 9,
   "metadata": {},
   "outputs": [
    {
     "data": {
      "text/plain": [
       "array([0, 2, 4, 6, 8])"
      ]
     },
     "execution_count": 9,
     "metadata": {},
     "output_type": "execute_result"
    }
   ],
   "source": [
    "np.arange(0, 10, 2) # Belirli aralıklarda doğrusal bir array."
   ]
  },
  {
   "cell_type": "code",
   "execution_count": 10,
   "metadata": {},
   "outputs": [
    {
     "data": {
      "text/plain": [
       "array([0.        , 0.03448276, 0.06896552, 0.10344828, 0.13793103,\n",
       "       0.17241379, 0.20689655, 0.24137931, 0.27586207, 0.31034483,\n",
       "       0.34482759, 0.37931034, 0.4137931 , 0.44827586, 0.48275862,\n",
       "       0.51724138, 0.55172414, 0.5862069 , 0.62068966, 0.65517241,\n",
       "       0.68965517, 0.72413793, 0.75862069, 0.79310345, 0.82758621,\n",
       "       0.86206897, 0.89655172, 0.93103448, 0.96551724, 1.        ])"
      ]
     },
     "execution_count": 10,
     "metadata": {},
     "output_type": "execute_result"
    }
   ],
   "source": [
    "np.linspace(0, 1, 30) # Belirli sayılar arasında istenildiği kadar sayı üreten array."
   ]
  },
  {
   "cell_type": "markdown",
   "metadata": {},
   "source": [
    "## Array biçimlendirmek"
   ]
  },
  {
   "cell_type": "markdown",
   "metadata": {},
   "source": [
    "- `ndim` : Boyut sayısı.\n",
    "- `shape` : Boyut bilgisi.\n",
    "- `size` : Toplam eleman sayısı.\n",
    "- `dytpe` : Veri tipi."
   ]
  },
  {
   "cell_type": "code",
   "execution_count": 2,
   "metadata": {},
   "outputs": [
    {
     "name": "stdout",
     "output_type": "stream",
     "text": [
      "[[7 8 5 0 9]\n",
      " [8 0 0 7 5]\n",
      " [9 3 9 5 5]\n",
      " [7 5 5 2 2]\n",
      " [0 7 0 2 8]\n",
      " [2 7 0 5 1]\n",
      " [2 1 4 5 3]\n",
      " [4 6 4 1 5]\n",
      " [8 5 6 1 4]\n",
      " [5 7 4 2 9]]\n",
      "2\n",
      "(10, 5)\n",
      "50\n",
      "int64\n"
     ]
    }
   ],
   "source": [
    "import numpy as np\n",
    "\n",
    "a = np.random.randint(10, size = (10, 5))\n",
    "\n",
    "print(a)\n",
    "\n",
    "print(a.ndim)\n",
    "print(a.shape)\n",
    "print(a.size)\n",
    "print(a.dtype)"
   ]
  },
  {
   "cell_type": "code",
   "execution_count": 9,
   "metadata": {},
   "outputs": [
    {
     "name": "stdout",
     "output_type": "stream",
     "text": [
      "[1 2 3 4 5 6 7 8 9] 1\n",
      "[[1 2 3]\n",
      " [4 5 6]\n",
      " [7 8 9]] 2\n"
     ]
    }
   ],
   "source": [
    "a = np.arange(1, 10)\n",
    "b = a.reshape(3, 3)\n",
    "\n",
    "print(a, a.ndim)\n",
    "print(b, b.ndim)"
   ]
  },
  {
   "cell_type": "code",
   "execution_count": 17,
   "metadata": {},
   "outputs": [
    {
     "name": "stdout",
     "output_type": "stream",
     "text": [
      "[1 2 3] 1\n",
      "[[1 2 3]] 2\n"
     ]
    }
   ],
   "source": [
    "c = np.array([1,2,3])\n",
    "\n",
    "d = c.reshape(1,3) # Vektör halindeki array matrise çevrildi. Ve boyutu da değişti.\n",
    "\n",
    "print(c, c.ndim)\n",
    "print(d, d.ndim)"
   ]
  },
  {
   "cell_type": "code",
   "execution_count": 19,
   "metadata": {},
   "outputs": [
    {
     "data": {
      "text/plain": [
       "array([1, 2, 3, 4, 5, 6, 7, 8, 9])"
      ]
     },
     "execution_count": 19,
     "metadata": {},
     "output_type": "execute_result"
    }
   ],
   "source": [
    "x = np.array([1,2,3])\n",
    "y = np.array([4,5,6])\n",
    "z = [7,8,9]\n",
    "\n",
    "np.concatenate([x,y,z]) # Değerleri birleştirir."
   ]
  },
  {
   "cell_type": "code",
   "execution_count": 22,
   "metadata": {},
   "outputs": [
    {
     "name": "stdout",
     "output_type": "stream",
     "text": [
      "[array([1, 2, 3]), array([4, 5, 6]), array([7, 8, 9])]\n",
      "[1 2 3]\n",
      "[4 5 6]\n",
      "[7 8 9]\n"
     ]
    }
   ],
   "source": [
    "s = np.concatenate([x,y,z])\n",
    "\n",
    "print(np.split(s, [3,6])) # Verilen index değerlerine göre ayırır.\n",
    "\n",
    "d,e,f = np.split(s, [3, 6]) # Ayrılan array değerlerini kullanmak için de topluca değişkenlere atadı.\n",
    "\n",
    "print(d)\n",
    "print(e)\n",
    "print(f)"
   ]
  },
  {
   "cell_type": "code",
   "execution_count": 26,
   "metadata": {},
   "outputs": [
    {
     "name": "stdout",
     "output_type": "stream",
     "text": [
      "[34  4  1  9 10]\n",
      "[ 1  4  9 10 34]\n",
      "[2 1 3 4 0]\n"
     ]
    }
   ],
   "source": [
    "v = np.array([34, 4, 1, 9, 10])\n",
    "\n",
    "print(v)\n",
    "\n",
    "print(np.sort(v)) # NumPy'daki metotla sıralar, array orjinalinde değişiklik yapmaz. v.sort() olsaydı kalıcı değişirdi.\n",
    "\n",
    "print(np.argsort(v)) # Sıralama sonrası değerlerin eski index değerlerini, yani nerede olduklarını döndürür."
   ]
  },
  {
   "cell_type": "markdown",
   "metadata": {},
   "source": [
    "## Eleman işlemleri"
   ]
  },
  {
   "cell_type": "code",
   "execution_count": 3,
   "metadata": {},
   "outputs": [
    {
     "name": "stdout",
     "output_type": "stream",
     "text": [
      "[1 1 1 9 6 1 7 1 0 6]\n",
      "9\n",
      "7\n"
     ]
    }
   ],
   "source": [
    "import numpy as np\n",
    "\n",
    "a = np.random.randint(10, size = 10)\n",
    "\n",
    "print(a)\n",
    "\n",
    "print(a[3]) # Array içindeki index değerine ulaşır.\n",
    "\n",
    "print(a[-4]) # İndex değerine tersten ulaşır."
   ]
  },
  {
   "cell_type": "code",
   "execution_count": 4,
   "metadata": {},
   "outputs": [
    {
     "name": "stdout",
     "output_type": "stream",
     "text": [
      "[ 1  1  1  9 15  1  7  1  0  6]\n"
     ]
    }
   ],
   "source": [
    "a[4] = 15 # Array içindeki değer yine atamayla değiştirilebilir.\n",
    "\n",
    "print(a)"
   ]
  },
  {
   "cell_type": "code",
   "execution_count": 5,
   "metadata": {},
   "outputs": [
    {
     "name": "stdout",
     "output_type": "stream",
     "text": [
      "[[7 1 7 0 2]\n",
      " [2 8 9 4 7]\n",
      " [1 3 3 6 8]]\n"
     ]
    }
   ],
   "source": [
    "b = np.random.randint(10, size = (3, 5))\n",
    "\n",
    "print(b)"
   ]
  },
  {
   "cell_type": "code",
   "execution_count": 7,
   "metadata": {},
   "outputs": [
    {
     "name": "stdout",
     "output_type": "stream",
     "text": [
      "9\n",
      "19\n"
     ]
    }
   ],
   "source": [
    "print(b[1, 2]) # İki boyutlu array (matris) içindeki değerlere ulaşır.\n",
    "\n",
    "b[0, 1] = 19\n",
    "\n",
    "print(b[0, 1])"
   ]
  },
  {
   "cell_type": "code",
   "execution_count": 8,
   "metadata": {},
   "outputs": [
    {
     "data": {
      "text/plain": [
       "array([23, 24, 25, 26, 27])"
      ]
     },
     "execution_count": 8,
     "metadata": {},
     "output_type": "execute_result"
    }
   ],
   "source": [
    "c = np.arange(20, 40)\n",
    "\n",
    "c[3:8] # Dilimleme yöntemiyle array içinden istenilen değerlere ulaşır."
   ]
  },
  {
   "cell_type": "markdown",
   "metadata": {},
   "source": [
    "Slice işlemleri `[satır:sütun]` şeklinde çalışır. "
   ]
  },
  {
   "cell_type": "code",
   "execution_count": 3,
   "metadata": {},
   "outputs": [
    {
     "name": "stdout",
     "output_type": "stream",
     "text": [
      "[[6 6 9 1 8]\n",
      " [7 6 5 2 5]\n",
      " [5 9 9 2 3]\n",
      " [3 7 8 6 4]\n",
      " [1 4 3 5 0]]\n"
     ]
    }
   ],
   "source": [
    "d = np.random.randint(10, size = (5, 5))\n",
    "\n",
    "print(d)"
   ]
  },
  {
   "cell_type": "code",
   "execution_count": 14,
   "metadata": {},
   "outputs": [
    {
     "data": {
      "text/plain": [
       "array([0, 9, 1, 9, 0])"
      ]
     },
     "execution_count": 14,
     "metadata": {},
     "output_type": "execute_result"
    }
   ],
   "source": [
    "d[3,:] # Satırın tamamını alır."
   ]
  },
  {
   "cell_type": "code",
   "execution_count": 15,
   "metadata": {},
   "outputs": [
    {
     "data": {
      "text/plain": [
       "array([7, 3, 3, 9, 7])"
      ]
     },
     "execution_count": 15,
     "metadata": {},
     "output_type": "execute_result"
    }
   ],
   "source": [
    "d[:,3] # Sütunun tamamını alır."
   ]
  },
  {
   "cell_type": "markdown",
   "metadata": {},
   "source": [
    "İki boyutlu array içinden slice işlemi de `[satır:satır,sütun:sütun]` şeklinde çalışır. Aslında alt array oluşturur."
   ]
  },
  {
   "cell_type": "code",
   "execution_count": 22,
   "metadata": {},
   "outputs": [
    {
     "data": {
      "text/plain": [
       "array([[2, 4, 7],\n",
       "       [9, 1, 3]])"
      ]
     },
     "execution_count": 22,
     "metadata": {},
     "output_type": "execute_result"
    }
   ],
   "source": [
    "d[0:2,1:4] # Matrislerde önemli olan virgül. Kesişim kümesi gibi çalışıyor."
   ]
  },
  {
   "cell_type": "markdown",
   "metadata": {},
   "source": [
    "Alt arraylerde işlem yaparken ana arrayi etkilememek için alt array `copy` ile çoğaltılarak işlem yapılır."
   ]
  },
  {
   "cell_type": "code",
   "execution_count": 24,
   "metadata": {},
   "outputs": [
    {
     "name": "stdout",
     "output_type": "stream",
     "text": [
      "[[8 2 4 7 0]\n",
      " [6 9 1 3 8]\n",
      " [2 1 4 3 3]\n",
      " [0 9 1 9 0]\n",
      " [0 5 1 7 2]]\n",
      "[[2 4 7]\n",
      " [9 1 3]]\n",
      "[[   2 9999 9999]\n",
      " [   9    1    3]]\n",
      "[[8 2 4 7 0]\n",
      " [6 9 1 3 8]\n",
      " [2 1 4 3 3]\n",
      " [0 9 1 9 0]\n",
      " [0 5 1 7 2]]\n"
     ]
    }
   ],
   "source": [
    "print(d)\n",
    "\n",
    "print(d[0:2,1:4])\n",
    "\n",
    "alt = d[0:2,1:4].copy()\n",
    "\n",
    "alt[0:1,1:] = 9999 # Alt arrayde değişiklik yapıyoruz.\n",
    "\n",
    "print(alt)\n",
    "\n",
    "print(d) # Ama yaptığımız değişiklik ana arrayi etkilemiyor."
   ]
  },
  {
   "cell_type": "markdown",
   "metadata": {},
   "source": [
    "Fancy Index kavramıyla bir array içinden eleman seçmek için o arraye liste veya array verilerek indexleme yapılabilir."
   ]
  },
  {
   "cell_type": "code",
   "execution_count": 27,
   "metadata": {},
   "outputs": [
    {
     "data": {
      "text/plain": [
       "array([  6, 102,  69, 120])"
      ]
     },
     "execution_count": 27,
     "metadata": {},
     "output_type": "execute_result"
    }
   ],
   "source": [
    "import numpy as np\n",
    "\n",
    "f = np.arange(0, 500, 3)\n",
    "\n",
    "index_deger = [2, 34, 23, 40]\n",
    "\n",
    "f[index_deger]"
   ]
  },
  {
   "cell_type": "markdown",
   "metadata": {},
   "source": [
    "Koşullu eleman işlemleriyle array bazında sorgulama veya işlem yapılabilir.\n",
    "\n",
    "`np.equal`\n",
    "`np.not_equal`\n",
    "`np.less_equal`\n",
    "`np.less`\n",
    "`np.greater`\n",
    "`np.greater_equa`\n",
    "\n",
    "\n",
    "Bu koşullu ifadeler aslında Python'ın temel operatörleriyle yapabileceğimiz şeyler.\n"
   ]
  },
  {
   "cell_type": "markdown",
   "metadata": {},
   "source": [
    "## Matematiksel işlemler"
   ]
  },
  {
   "cell_type": "code",
   "execution_count": 2,
   "metadata": {},
   "outputs": [
    {
     "name": "stdout",
     "output_type": "stream",
     "text": [
      "[0 1 2 3 4]\n",
      "[-1  0  1  2  3]\n",
      "[1 2 3 4 5]\n",
      "[ 0  3  6  9 12]\n",
      "[ 0  1  4  9 16]\n",
      "[0.  0.5 1.  1.5 2. ]\n"
     ]
    }
   ],
   "source": [
    "import numpy as np\n",
    "\n",
    "a = np.arange(5)\n",
    "\n",
    "print(a)\n",
    "print(a-1)\n",
    "print(a+1)\n",
    "print(a*3)\n",
    "print(a**2)\n",
    "print(a/2)"
   ]
  },
  {
   "cell_type": "markdown",
   "metadata": {},
   "source": [
    "Temel matematik operatörlerinin yanında bunlara has fonksiyonlar da var."
   ]
  },
  {
   "cell_type": "code",
   "execution_count": 8,
   "metadata": {},
   "outputs": [
    {
     "name": "stdout",
     "output_type": "stream",
     "text": [
      "[2 3 4 5 6]\n",
      "[-2 -1  0  1  2]\n",
      "[0 2 4 6 8]\n",
      "[0.  0.5 1.  1.5 2. ]\n",
      "[ 0  1  4  9 16]\n"
     ]
    }
   ],
   "source": [
    "print(np.add(a,2)) # Toplama\n",
    "print(np.subtract(a,2)) # Çıkarma\n",
    "print(np.multiply(a,2)) # Çarpma\n",
    "print(np.divide(a,2)) # Bölme\n",
    "print(np.power(a,2)) # Üs"
   ]
  },
  {
   "cell_type": "markdown",
   "metadata": {},
   "source": [
    "## İstatistiksel işlemler"
   ]
  },
  {
   "cell_type": "code",
   "execution_count": 20,
   "metadata": {},
   "outputs": [
    {
     "name": "stdout",
     "output_type": "stream",
     "text": [
      "[ 2.36437334 -0.27972398  0.37239787 -2.40269174  1.64768722 -1.24815002\n",
      " -0.13053408 -3.1222714   0.62560829  0.66649763 -0.94068013  2.42670872\n",
      "  3.04164785 -0.48308056  0.45795631 -1.88302371 -1.14559788 -1.07539564\n",
      "  0.63979071  2.57519725 -2.41884116 -1.17873383 -1.50312043 -2.79702607\n",
      " -1.03584582 -1.1584882  -0.36389963  2.29871093 -3.2260122   2.21956678]\n",
      "-0.23523245185695332\n",
      "1.7776981153185631\n",
      "3.1602105892071717\n",
      "-0.42349009472071786\n",
      "-3.2260122020641453\n",
      "3.0416478545759906\n",
      "-7.056973555708599\n"
     ]
    }
   ],
   "source": [
    "import numpy as np\n",
    "\n",
    "b = np.random.normal(0,2, 30)\n",
    "\n",
    "print(b)\n",
    "\n",
    "print(np.mean(b)) # Ortalama\n",
    "print(np.std(b)) # Standart sapma\n",
    "print(np.var(b)) # Varyans\n",
    "print(np.median(b)) # Ortanca\n",
    "print(np.min(b)) # Minimum değer\n",
    "print(np.max(b)) # Maksimum değer\n",
    "\n",
    "print(np.sum(b)) # Değerleri toplar."
   ]
  },
  {
   "cell_type": "markdown",
   "metadata": {},
   "source": [
    "## Farklı boyutlardaki arrayler ile çalışmak (Broadcasting)"
   ]
  },
  {
   "cell_type": "code",
   "execution_count": 26,
   "metadata": {},
   "outputs": [
    {
     "name": "stdout",
     "output_type": "stream",
     "text": [
      "[[2. 3. 4.]\n",
      " [2. 3. 4.]\n",
      " [2. 3. 4.]\n",
      " [2. 3. 4.]]\n"
     ]
    }
   ],
   "source": [
    "a = np.array([1,2,3])\n",
    "m = np.ones((4,3))\n",
    "\n",
    "print(a + m) # Tek boyutlu array diğerine satır satır boyutu ölçüşecek şekilde eklenir.\n",
    "\n",
    "# Aynı boyutçaymışçasına eklenir. Broadcast yaymak manasına geliyor."
   ]
  }
 ],
 "metadata": {
  "kernelspec": {
   "display_name": "Python 3",
   "language": "python",
   "name": "python3"
  },
  "language_info": {
   "codemirror_mode": {
    "name": "ipython",
    "version": 3
   },
   "file_extension": ".py",
   "mimetype": "text/x-python",
   "name": "python",
   "nbconvert_exporter": "python",
   "pygments_lexer": "ipython3",
   "version": "3.7.4"
  }
 },
 "nbformat": 4,
 "nbformat_minor": 4
}
