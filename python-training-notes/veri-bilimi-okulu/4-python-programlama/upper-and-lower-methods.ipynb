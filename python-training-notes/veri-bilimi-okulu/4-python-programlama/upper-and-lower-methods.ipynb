{
 "cells": [
  {
   "cell_type": "code",
   "execution_count": 18,
   "metadata": {},
   "outputs": [
    {
     "name": "stdout",
     "output_type": "stream",
     "text": [
      "BU BIR STRING IFADE.\n"
     ]
    }
   ],
   "source": [
    "degisken = \"bu bir string ifade.\"\n",
    "\n",
    "yeni_degisken = degisken.upper()\n",
    "\n",
    "yeni_degisken.isupper() # Büyük mü diye sorar.\n",
    "\n",
    "print(yeni_degisken)"
   ]
  },
  {
   "cell_type": "code",
   "execution_count": 19,
   "metadata": {},
   "outputs": [
    {
     "name": "stdout",
     "output_type": "stream",
     "text": [
      "bu bir string ifade.\n"
     ]
    },
    {
     "data": {
      "text/plain": [
       "True"
      ]
     },
     "execution_count": 19,
     "metadata": {},
     "output_type": "execute_result"
    }
   ],
   "source": [
    "print(degisken)\n",
    "\n",
    "degisken.islower() # Küçük mü diye sorar."
   ]
  },
  {
   "cell_type": "code",
   "execution_count": 22,
   "metadata": {},
   "outputs": [
    {
     "data": {
      "text/plain": [
       "False"
      ]
     },
     "execution_count": 22,
     "metadata": {},
     "output_type": "execute_result"
    }
   ],
   "source": [
    "# karisik_degisken = \"Bu bir string ifade.\"\n",
    "\n",
    "karisik_degisken.islower() # Küçük mü diye sordu, ama içinde bir büyük karakter olduğu için false döndü."
   ]
  }
 ],
 "metadata": {
  "kernelspec": {
   "display_name": "Python 3",
   "language": "python",
   "name": "python3"
  },
  "language_info": {
   "codemirror_mode": {
    "name": "ipython",
    "version": 3
   },
   "file_extension": ".py",
   "mimetype": "text/x-python",
   "name": "python",
   "nbconvert_exporter": "python",
   "pygments_lexer": "ipython3",
   "version": "3.7.4"
  }
 },
 "nbformat": 4,
 "nbformat_minor": 2
}
